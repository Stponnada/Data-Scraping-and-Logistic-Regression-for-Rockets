{
 "cells": [
  {
   "cell_type": "code",
   "execution_count": 10,
   "id": "06769846-cad0-43bd-b54f-0661813dbee3",
   "metadata": {},
   "outputs": [
    {
     "name": "stdout",
     "output_type": "stream",
     "text": [
      "Fetching data for 1990 from: https://en.wikipedia.org/wiki/1990_in_spaceflight#Orbital_launches\n"
     ]
    },
    {
     "name": "stderr",
     "output_type": "stream",
     "text": [
      "/var/folders/5_/5pdqb8ld1h3_p2zp4bsnsbcr0000gn/T/ipykernel_34584/964075101.py:55: FutureWarning: Passing literal html to 'read_html' is deprecated and will be removed in a future version. To read from a literal string, wrap it in a 'StringIO' object.\n",
      "  tables = pd.read_html(response.text)\n"
     ]
    },
    {
     "name": "stdout",
     "output_type": "stream",
     "text": [
      "---> Found the orbital launch table for 1990.\n",
      "Fetching data for 1991 from: https://en.wikipedia.org/wiki/1991_in_spaceflight#Orbital_launches\n"
     ]
    },
    {
     "name": "stderr",
     "output_type": "stream",
     "text": [
      "/var/folders/5_/5pdqb8ld1h3_p2zp4bsnsbcr0000gn/T/ipykernel_34584/964075101.py:55: FutureWarning: Passing literal html to 'read_html' is deprecated and will be removed in a future version. To read from a literal string, wrap it in a 'StringIO' object.\n",
      "  tables = pd.read_html(response.text)\n"
     ]
    },
    {
     "name": "stdout",
     "output_type": "stream",
     "text": [
      "---> Warning: Could not find the correct table for 1991.\n",
      "Fetching data for 1992 from: https://en.wikipedia.org/wiki/1992_in_spaceflight#Orbital_launches\n"
     ]
    },
    {
     "name": "stderr",
     "output_type": "stream",
     "text": [
      "/var/folders/5_/5pdqb8ld1h3_p2zp4bsnsbcr0000gn/T/ipykernel_34584/964075101.py:55: FutureWarning: Passing literal html to 'read_html' is deprecated and will be removed in a future version. To read from a literal string, wrap it in a 'StringIO' object.\n",
      "  tables = pd.read_html(response.text)\n"
     ]
    },
    {
     "name": "stdout",
     "output_type": "stream",
     "text": [
      "---> Found the orbital launch table for 1992.\n",
      "Fetching data for 1993 from: https://en.wikipedia.org/wiki/1993_in_spaceflight#Orbital_launches\n"
     ]
    },
    {
     "name": "stderr",
     "output_type": "stream",
     "text": [
      "/var/folders/5_/5pdqb8ld1h3_p2zp4bsnsbcr0000gn/T/ipykernel_34584/964075101.py:55: FutureWarning: Passing literal html to 'read_html' is deprecated and will be removed in a future version. To read from a literal string, wrap it in a 'StringIO' object.\n",
      "  tables = pd.read_html(response.text)\n"
     ]
    },
    {
     "name": "stdout",
     "output_type": "stream",
     "text": [
      "---> Found the orbital launch table for 1993.\n",
      "Fetching data for 1994 from: https://en.wikipedia.org/wiki/1994_in_spaceflight#Orbital_launches\n"
     ]
    },
    {
     "name": "stderr",
     "output_type": "stream",
     "text": [
      "/var/folders/5_/5pdqb8ld1h3_p2zp4bsnsbcr0000gn/T/ipykernel_34584/964075101.py:55: FutureWarning: Passing literal html to 'read_html' is deprecated and will be removed in a future version. To read from a literal string, wrap it in a 'StringIO' object.\n",
      "  tables = pd.read_html(response.text)\n"
     ]
    },
    {
     "name": "stdout",
     "output_type": "stream",
     "text": [
      "---> Found the orbital launch table for 1994.\n",
      "Fetching data for 1995 from: https://en.wikipedia.org/wiki/1995_in_spaceflight#Orbital_launches\n"
     ]
    },
    {
     "name": "stderr",
     "output_type": "stream",
     "text": [
      "/var/folders/5_/5pdqb8ld1h3_p2zp4bsnsbcr0000gn/T/ipykernel_34584/964075101.py:55: FutureWarning: Passing literal html to 'read_html' is deprecated and will be removed in a future version. To read from a literal string, wrap it in a 'StringIO' object.\n",
      "  tables = pd.read_html(response.text)\n"
     ]
    },
    {
     "name": "stdout",
     "output_type": "stream",
     "text": [
      "---> Found the orbital launch table for 1995.\n",
      "Fetching data for 1996 from: https://en.wikipedia.org/wiki/1996_in_spaceflight#Orbital_launches\n"
     ]
    },
    {
     "name": "stderr",
     "output_type": "stream",
     "text": [
      "/var/folders/5_/5pdqb8ld1h3_p2zp4bsnsbcr0000gn/T/ipykernel_34584/964075101.py:55: FutureWarning: Passing literal html to 'read_html' is deprecated and will be removed in a future version. To read from a literal string, wrap it in a 'StringIO' object.\n",
      "  tables = pd.read_html(response.text)\n"
     ]
    },
    {
     "name": "stdout",
     "output_type": "stream",
     "text": [
      "---> Found the orbital launch table for 1996.\n",
      "Fetching data for 1997 from: https://en.wikipedia.org/wiki/1997_in_spaceflight#Orbital_launches\n"
     ]
    },
    {
     "name": "stderr",
     "output_type": "stream",
     "text": [
      "/var/folders/5_/5pdqb8ld1h3_p2zp4bsnsbcr0000gn/T/ipykernel_34584/964075101.py:55: FutureWarning: Passing literal html to 'read_html' is deprecated and will be removed in a future version. To read from a literal string, wrap it in a 'StringIO' object.\n",
      "  tables = pd.read_html(response.text)\n"
     ]
    },
    {
     "name": "stdout",
     "output_type": "stream",
     "text": [
      "---> Found the orbital launch table for 1997.\n",
      "Fetching data for 1998 from: https://en.wikipedia.org/wiki/1998_in_spaceflight#Orbital_launches\n"
     ]
    },
    {
     "name": "stderr",
     "output_type": "stream",
     "text": [
      "/var/folders/5_/5pdqb8ld1h3_p2zp4bsnsbcr0000gn/T/ipykernel_34584/964075101.py:55: FutureWarning: Passing literal html to 'read_html' is deprecated and will be removed in a future version. To read from a literal string, wrap it in a 'StringIO' object.\n",
      "  tables = pd.read_html(response.text)\n"
     ]
    },
    {
     "name": "stdout",
     "output_type": "stream",
     "text": [
      "---> Found the orbital launch table for 1998.\n",
      "Fetching data for 1999 from: https://en.wikipedia.org/wiki/1999_in_spaceflight#Orbital_launches\n"
     ]
    },
    {
     "name": "stderr",
     "output_type": "stream",
     "text": [
      "/var/folders/5_/5pdqb8ld1h3_p2zp4bsnsbcr0000gn/T/ipykernel_34584/964075101.py:55: FutureWarning: Passing literal html to 'read_html' is deprecated and will be removed in a future version. To read from a literal string, wrap it in a 'StringIO' object.\n",
      "  tables = pd.read_html(response.text)\n"
     ]
    },
    {
     "name": "stdout",
     "output_type": "stream",
     "text": [
      "---> Found the orbital launch table for 1999.\n",
      "Fetching data for 2000 from: https://en.wikipedia.org/wiki/2000_in_spaceflight#Orbital_launches\n"
     ]
    },
    {
     "name": "stderr",
     "output_type": "stream",
     "text": [
      "/var/folders/5_/5pdqb8ld1h3_p2zp4bsnsbcr0000gn/T/ipykernel_34584/964075101.py:55: FutureWarning: Passing literal html to 'read_html' is deprecated and will be removed in a future version. To read from a literal string, wrap it in a 'StringIO' object.\n",
      "  tables = pd.read_html(response.text)\n"
     ]
    },
    {
     "name": "stdout",
     "output_type": "stream",
     "text": [
      "---> Found the orbital launch table for 2000.\n",
      "Fetching data for 2001 from: https://en.wikipedia.org/wiki/2001_in_spaceflight#Orbital_launches\n"
     ]
    },
    {
     "name": "stderr",
     "output_type": "stream",
     "text": [
      "/var/folders/5_/5pdqb8ld1h3_p2zp4bsnsbcr0000gn/T/ipykernel_34584/964075101.py:55: FutureWarning: Passing literal html to 'read_html' is deprecated and will be removed in a future version. To read from a literal string, wrap it in a 'StringIO' object.\n",
      "  tables = pd.read_html(response.text)\n"
     ]
    },
    {
     "name": "stdout",
     "output_type": "stream",
     "text": [
      "---> Found the orbital launch table for 2001.\n",
      "Fetching data for 2002 from: https://en.wikipedia.org/wiki/2002_in_spaceflight#Orbital_launches\n"
     ]
    },
    {
     "name": "stderr",
     "output_type": "stream",
     "text": [
      "/var/folders/5_/5pdqb8ld1h3_p2zp4bsnsbcr0000gn/T/ipykernel_34584/964075101.py:55: FutureWarning: Passing literal html to 'read_html' is deprecated and will be removed in a future version. To read from a literal string, wrap it in a 'StringIO' object.\n",
      "  tables = pd.read_html(response.text)\n"
     ]
    },
    {
     "name": "stdout",
     "output_type": "stream",
     "text": [
      "---> Found the orbital launch table for 2002.\n",
      "Fetching data for 2003 from: https://en.wikipedia.org/wiki/2003_in_spaceflight#Orbital_launches\n"
     ]
    },
    {
     "name": "stderr",
     "output_type": "stream",
     "text": [
      "/var/folders/5_/5pdqb8ld1h3_p2zp4bsnsbcr0000gn/T/ipykernel_34584/964075101.py:55: FutureWarning: Passing literal html to 'read_html' is deprecated and will be removed in a future version. To read from a literal string, wrap it in a 'StringIO' object.\n",
      "  tables = pd.read_html(response.text)\n"
     ]
    },
    {
     "name": "stdout",
     "output_type": "stream",
     "text": [
      "---> Found the orbital launch table for 2003.\n",
      "Fetching data for 2004 from: https://en.wikipedia.org/wiki/2004_in_spaceflight#Orbital_launches\n"
     ]
    },
    {
     "name": "stderr",
     "output_type": "stream",
     "text": [
      "/var/folders/5_/5pdqb8ld1h3_p2zp4bsnsbcr0000gn/T/ipykernel_34584/964075101.py:55: FutureWarning: Passing literal html to 'read_html' is deprecated and will be removed in a future version. To read from a literal string, wrap it in a 'StringIO' object.\n",
      "  tables = pd.read_html(response.text)\n"
     ]
    },
    {
     "name": "stdout",
     "output_type": "stream",
     "text": [
      "---> Found the orbital launch table for 2004.\n",
      "Fetching data for 2005 from: https://en.wikipedia.org/wiki/2005_in_spaceflight#Orbital_launches\n"
     ]
    },
    {
     "name": "stderr",
     "output_type": "stream",
     "text": [
      "/var/folders/5_/5pdqb8ld1h3_p2zp4bsnsbcr0000gn/T/ipykernel_34584/964075101.py:55: FutureWarning: Passing literal html to 'read_html' is deprecated and will be removed in a future version. To read from a literal string, wrap it in a 'StringIO' object.\n",
      "  tables = pd.read_html(response.text)\n"
     ]
    },
    {
     "name": "stdout",
     "output_type": "stream",
     "text": [
      "---> Found the orbital launch table for 2005.\n",
      "Fetching data for 2006 from: https://en.wikipedia.org/wiki/2006_in_spaceflight#Orbital_launches\n"
     ]
    },
    {
     "name": "stderr",
     "output_type": "stream",
     "text": [
      "/var/folders/5_/5pdqb8ld1h3_p2zp4bsnsbcr0000gn/T/ipykernel_34584/964075101.py:55: FutureWarning: Passing literal html to 'read_html' is deprecated and will be removed in a future version. To read from a literal string, wrap it in a 'StringIO' object.\n",
      "  tables = pd.read_html(response.text)\n"
     ]
    },
    {
     "name": "stdout",
     "output_type": "stream",
     "text": [
      "---> Found the orbital launch table for 2006.\n",
      "Fetching data for 2007 from: https://en.wikipedia.org/wiki/2007_in_spaceflight#Orbital_launches\n"
     ]
    },
    {
     "name": "stderr",
     "output_type": "stream",
     "text": [
      "/var/folders/5_/5pdqb8ld1h3_p2zp4bsnsbcr0000gn/T/ipykernel_34584/964075101.py:55: FutureWarning: Passing literal html to 'read_html' is deprecated and will be removed in a future version. To read from a literal string, wrap it in a 'StringIO' object.\n",
      "  tables = pd.read_html(response.text)\n"
     ]
    },
    {
     "name": "stdout",
     "output_type": "stream",
     "text": [
      "---> Found the orbital launch table for 2007.\n",
      "Fetching data for 2008 from: https://en.wikipedia.org/wiki/2008_in_spaceflight#Orbital_launches\n"
     ]
    },
    {
     "name": "stderr",
     "output_type": "stream",
     "text": [
      "/var/folders/5_/5pdqb8ld1h3_p2zp4bsnsbcr0000gn/T/ipykernel_34584/964075101.py:55: FutureWarning: Passing literal html to 'read_html' is deprecated and will be removed in a future version. To read from a literal string, wrap it in a 'StringIO' object.\n",
      "  tables = pd.read_html(response.text)\n"
     ]
    },
    {
     "name": "stdout",
     "output_type": "stream",
     "text": [
      "---> Found the orbital launch table for 2008.\n",
      "Fetching data for 2009 from: https://en.wikipedia.org/wiki/2009_in_spaceflight#Orbital_launches\n"
     ]
    },
    {
     "name": "stderr",
     "output_type": "stream",
     "text": [
      "/var/folders/5_/5pdqb8ld1h3_p2zp4bsnsbcr0000gn/T/ipykernel_34584/964075101.py:55: FutureWarning: Passing literal html to 'read_html' is deprecated and will be removed in a future version. To read from a literal string, wrap it in a 'StringIO' object.\n",
      "  tables = pd.read_html(response.text)\n"
     ]
    },
    {
     "name": "stdout",
     "output_type": "stream",
     "text": [
      "---> Found the orbital launch table for 2009.\n",
      "Fetching data for 2010 from: https://en.wikipedia.org/wiki/2010_in_spaceflight#Orbital_launches\n"
     ]
    },
    {
     "name": "stderr",
     "output_type": "stream",
     "text": [
      "/var/folders/5_/5pdqb8ld1h3_p2zp4bsnsbcr0000gn/T/ipykernel_34584/964075101.py:55: FutureWarning: Passing literal html to 'read_html' is deprecated and will be removed in a future version. To read from a literal string, wrap it in a 'StringIO' object.\n",
      "  tables = pd.read_html(response.text)\n"
     ]
    },
    {
     "name": "stdout",
     "output_type": "stream",
     "text": [
      "---> Found the orbital launch table for 2010.\n",
      "Fetching data for 2011 from: https://en.wikipedia.org/wiki/2011_in_spaceflight#Orbital_launches\n"
     ]
    },
    {
     "name": "stderr",
     "output_type": "stream",
     "text": [
      "/var/folders/5_/5pdqb8ld1h3_p2zp4bsnsbcr0000gn/T/ipykernel_34584/964075101.py:55: FutureWarning: Passing literal html to 'read_html' is deprecated and will be removed in a future version. To read from a literal string, wrap it in a 'StringIO' object.\n",
      "  tables = pd.read_html(response.text)\n"
     ]
    },
    {
     "name": "stdout",
     "output_type": "stream",
     "text": [
      "---> Found the orbital launch table for 2011.\n",
      "Fetching data for 2012 from: https://en.wikipedia.org/wiki/2012_in_spaceflight#Orbital_launches\n"
     ]
    },
    {
     "name": "stderr",
     "output_type": "stream",
     "text": [
      "/var/folders/5_/5pdqb8ld1h3_p2zp4bsnsbcr0000gn/T/ipykernel_34584/964075101.py:55: FutureWarning: Passing literal html to 'read_html' is deprecated and will be removed in a future version. To read from a literal string, wrap it in a 'StringIO' object.\n",
      "  tables = pd.read_html(response.text)\n"
     ]
    },
    {
     "name": "stdout",
     "output_type": "stream",
     "text": [
      "---> Found the orbital launch table for 2012.\n",
      "Fetching data for 2013 from: https://en.wikipedia.org/wiki/2013_in_spaceflight#Orbital_launches\n"
     ]
    },
    {
     "name": "stderr",
     "output_type": "stream",
     "text": [
      "/var/folders/5_/5pdqb8ld1h3_p2zp4bsnsbcr0000gn/T/ipykernel_34584/964075101.py:55: FutureWarning: Passing literal html to 'read_html' is deprecated and will be removed in a future version. To read from a literal string, wrap it in a 'StringIO' object.\n",
      "  tables = pd.read_html(response.text)\n"
     ]
    },
    {
     "name": "stdout",
     "output_type": "stream",
     "text": [
      "---> Found the orbital launch table for 2013.\n",
      "Fetching data for 2014 from: https://en.wikipedia.org/wiki/2014_in_spaceflight#Orbital_launches\n"
     ]
    },
    {
     "name": "stderr",
     "output_type": "stream",
     "text": [
      "/var/folders/5_/5pdqb8ld1h3_p2zp4bsnsbcr0000gn/T/ipykernel_34584/964075101.py:55: FutureWarning: Passing literal html to 'read_html' is deprecated and will be removed in a future version. To read from a literal string, wrap it in a 'StringIO' object.\n",
      "  tables = pd.read_html(response.text)\n"
     ]
    },
    {
     "name": "stdout",
     "output_type": "stream",
     "text": [
      "---> Found the orbital launch table for 2014.\n",
      "Fetching data for 2015 from: https://en.wikipedia.org/wiki/2015_in_spaceflight#Orbital_launches\n"
     ]
    },
    {
     "name": "stderr",
     "output_type": "stream",
     "text": [
      "/var/folders/5_/5pdqb8ld1h3_p2zp4bsnsbcr0000gn/T/ipykernel_34584/964075101.py:55: FutureWarning: Passing literal html to 'read_html' is deprecated and will be removed in a future version. To read from a literal string, wrap it in a 'StringIO' object.\n",
      "  tables = pd.read_html(response.text)\n"
     ]
    },
    {
     "name": "stdout",
     "output_type": "stream",
     "text": [
      "---> Found the orbital launch table for 2015.\n",
      "Fetching data for 2016 from: https://en.wikipedia.org/wiki/2016_in_spaceflight#Orbital_launches\n"
     ]
    },
    {
     "name": "stderr",
     "output_type": "stream",
     "text": [
      "/var/folders/5_/5pdqb8ld1h3_p2zp4bsnsbcr0000gn/T/ipykernel_34584/964075101.py:55: FutureWarning: Passing literal html to 'read_html' is deprecated and will be removed in a future version. To read from a literal string, wrap it in a 'StringIO' object.\n",
      "  tables = pd.read_html(response.text)\n"
     ]
    },
    {
     "name": "stdout",
     "output_type": "stream",
     "text": [
      "---> Found the orbital launch table for 2016.\n",
      "Fetching data for 2017 from: https://en.wikipedia.org/wiki/2017_in_spaceflight#Orbital_launches\n"
     ]
    },
    {
     "name": "stderr",
     "output_type": "stream",
     "text": [
      "/var/folders/5_/5pdqb8ld1h3_p2zp4bsnsbcr0000gn/T/ipykernel_34584/964075101.py:55: FutureWarning: Passing literal html to 'read_html' is deprecated and will be removed in a future version. To read from a literal string, wrap it in a 'StringIO' object.\n",
      "  tables = pd.read_html(response.text)\n"
     ]
    },
    {
     "name": "stdout",
     "output_type": "stream",
     "text": [
      "---> Found the orbital launch table for 2017.\n",
      "Fetching data for 2018 from: https://en.wikipedia.org/wiki/2018_in_spaceflight#Orbital_launches\n"
     ]
    },
    {
     "name": "stderr",
     "output_type": "stream",
     "text": [
      "/var/folders/5_/5pdqb8ld1h3_p2zp4bsnsbcr0000gn/T/ipykernel_34584/964075101.py:55: FutureWarning: Passing literal html to 'read_html' is deprecated and will be removed in a future version. To read from a literal string, wrap it in a 'StringIO' object.\n",
      "  tables = pd.read_html(response.text)\n"
     ]
    },
    {
     "name": "stdout",
     "output_type": "stream",
     "text": [
      "---> Warning: Could not find the correct table for 2018.\n",
      "Fetching data for 2019 from: https://en.wikipedia.org/wiki/2019_in_spaceflight#Orbital_launches\n"
     ]
    },
    {
     "name": "stderr",
     "output_type": "stream",
     "text": [
      "/var/folders/5_/5pdqb8ld1h3_p2zp4bsnsbcr0000gn/T/ipykernel_34584/964075101.py:55: FutureWarning: Passing literal html to 'read_html' is deprecated and will be removed in a future version. To read from a literal string, wrap it in a 'StringIO' object.\n",
      "  tables = pd.read_html(response.text)\n"
     ]
    },
    {
     "name": "stdout",
     "output_type": "stream",
     "text": [
      "---> Warning: Could not find the correct table for 2019.\n",
      "Fetching data for 2020 from: https://en.wikipedia.org/wiki/2020_in_spaceflight#Orbital_launches\n"
     ]
    },
    {
     "name": "stderr",
     "output_type": "stream",
     "text": [
      "/var/folders/5_/5pdqb8ld1h3_p2zp4bsnsbcr0000gn/T/ipykernel_34584/964075101.py:55: FutureWarning: Passing literal html to 'read_html' is deprecated and will be removed in a future version. To read from a literal string, wrap it in a 'StringIO' object.\n",
      "  tables = pd.read_html(response.text)\n"
     ]
    },
    {
     "name": "stdout",
     "output_type": "stream",
     "text": [
      "---> Found the orbital launch table for 2020.\n",
      "Fetching data for 2021 from: https://en.wikipedia.org/wiki/2021_in_spaceflight#Orbital_launches\n"
     ]
    },
    {
     "name": "stderr",
     "output_type": "stream",
     "text": [
      "/var/folders/5_/5pdqb8ld1h3_p2zp4bsnsbcr0000gn/T/ipykernel_34584/964075101.py:55: FutureWarning: Passing literal html to 'read_html' is deprecated and will be removed in a future version. To read from a literal string, wrap it in a 'StringIO' object.\n",
      "  tables = pd.read_html(response.text)\n"
     ]
    },
    {
     "name": "stdout",
     "output_type": "stream",
     "text": [
      "---> Warning: Could not find the correct table for 2021.\n",
      "Fetching data for 2022 from: https://en.wikipedia.org/wiki/2022_in_spaceflight#Orbital_launches\n"
     ]
    },
    {
     "name": "stderr",
     "output_type": "stream",
     "text": [
      "/var/folders/5_/5pdqb8ld1h3_p2zp4bsnsbcr0000gn/T/ipykernel_34584/964075101.py:55: FutureWarning: Passing literal html to 'read_html' is deprecated and will be removed in a future version. To read from a literal string, wrap it in a 'StringIO' object.\n",
      "  tables = pd.read_html(response.text)\n"
     ]
    },
    {
     "name": "stdout",
     "output_type": "stream",
     "text": [
      "---> Warning: Could not find the correct table for 2022.\n",
      "Fetching data for 2023 from: https://en.wikipedia.org/wiki/2023_in_spaceflight#Orbital_launches\n"
     ]
    },
    {
     "name": "stderr",
     "output_type": "stream",
     "text": [
      "/var/folders/5_/5pdqb8ld1h3_p2zp4bsnsbcr0000gn/T/ipykernel_34584/964075101.py:55: FutureWarning: Passing literal html to 'read_html' is deprecated and will be removed in a future version. To read from a literal string, wrap it in a 'StringIO' object.\n",
      "  tables = pd.read_html(response.text)\n"
     ]
    },
    {
     "name": "stdout",
     "output_type": "stream",
     "text": [
      "---> Warning: Could not find the correct table for 2023.\n",
      "\n",
      "Scraping complete!\n",
      "Successfully scraped and combined data for 28 years!\n",
      "\n",
      "--- Initial DataFrame Info ---\n",
      "<class 'pandas.core.frame.DataFrame'>\n",
      "RangeIndex: 9925 entries, 0 to 9924\n",
      "Data columns (total 9 columns):\n",
      " #   Column                                                           Non-Null Count  Dtype \n",
      "---  ------                                                           --------------  ----- \n",
      " 0   (Date and time (UTC), Date and time (UTC), Date and time (UTC))  9925 non-null   object\n",
      " 1   (Rocket, Unnamed: 1_level_1, Unnamed: 1_level_2)                 2595 non-null   object\n",
      " 2   (Rocket, Payload (⚀ = CubeSat), Remarks)                         7525 non-null   object\n",
      " 3   (Flight number, Operator, Remarks)                               5307 non-null   object\n",
      " 4   (Launch site, Orbit, Remarks)                                    7524 non-null   object\n",
      " 5   (Launch site, Function, Remarks)                                 7495 non-null   object\n",
      " 6   (LSP, Decay (UTC), Remarks)                                      7259 non-null   object\n",
      " 7   (LSP, Outcome, Remarks)                                          7248 non-null   object\n",
      " 8   (Year, , )                                                       9925 non-null   int64 \n",
      "dtypes: int64(1), object(8)\n",
      "memory usage: 698.0+ KB\n",
      "None\n",
      "\n",
      "--- First 5 Rows of Raw Data ---\n",
      "        Date and time (UTC)                   Rocket                           \\\n",
      "        Date and time (UTC)       Unnamed: 1_level_1    Payload (⚀ = CubeSat)   \n",
      "        Date and time (UTC)       Unnamed: 1_level_2                  Remarks   \n",
      "0             January[edit]            January[edit]            January[edit]   \n",
      "1  1 January 00:07 (UTC)[1]  Commercial Titan III[1]  Commercial Titan III[1]   \n",
      "2  1 January 00:07 (UTC)[1]                      NaN                      NaN   \n",
      "3  1 January 00:07 (UTC)[1]                      NaN             Skynet 4A[1]   \n",
      "4  1 January 00:07 (UTC)[1]                      NaN               JCSAT 2[1]   \n",
      "\n",
      "   Flight number              Launch site                           \\\n",
      "        Operator                    Orbit                 Function   \n",
      "         Remarks                  Remarks                  Remarks   \n",
      "0  January[edit]            January[edit]            January[edit]   \n",
      "1            NaN  Cape Canaveral[1] LC-40  Cape Canaveral[1] LC-40   \n",
      "2            NaN                      NaN                      NaN   \n",
      "3            MoD           Geosynchronous           Communications   \n",
      "4           JSAT           Geosynchronous           Communications   \n",
      "\n",
      "                  LSP                                                     Year  \n",
      "          Decay (UTC)                                            Outcome        \n",
      "              Remarks                                            Remarks        \n",
      "0       January[edit]                                      January[edit]  1990  \n",
      "1  Martin Marietta[1]                                 Martin Marietta[1]  1990  \n",
      "2                 NaN                                                NaN  1990  \n",
      "3            In orbit  Successful; placed in graveyard orbit 20 June ...  1990  \n",
      "4            In orbit      Successful; placed in graveyard orbit 2002[3]  1990  \n",
      "\n",
      "\n",
      " !!! SUCCESSFULLY SAVED RAW DATA TO launches_raw.csv !!!\n"
     ]
    }
   ],
   "source": [
    "import pandas as pd\n",
    "#pandas is the library used to work with data in the form of tables or csv files\n",
    "import requests\n",
    "#requests is the library used to make http requests to websites. Needed for Data scraping from the internet\n",
    "import time\n",
    "#built in python library that lets us control time. Eg: to pause our program whenever needed\n",
    "\n",
    "def scrape_yearly_launches(start_year, end_year):\n",
    "#  scrape_yearly_data is a function that scrapes Wikipedia data for the given years: (From start_year to end_year)\n",
    "# this is a function that we have built that takes two input veriables.\n",
    "\n",
    "    all_launches = []\n",
    "    # Here, we are creating an empty list (which we will eventually fill) that will contain all data about our training set\n",
    "\n",
    "    for year in range(start_year, end_year + 1):\n",
    "    # this is a for loop. {year} is a variable that we are defining and range(): is an inbuilt python function.\n",
    "        url =  f\"https://en.wikipedia.org/wiki/{year}_in_spaceflight#Orbital_launches\"\n",
    "        # we are creating a variable called url. This is used as a placeholder for the url of the webpage that we will be scraping. f stands for formatted\n",
    "        print(f\"Fetching data for {year} from: {url}\")\n",
    "        #this print function is simply to give the user some information as to which specific year and webpage we are scraping at this particular moment in the program.\n",
    "        \n",
    "        try:\n",
    "        #try is a keyword similar to for,if while etc. Its used for error handling to attempt something that has a high chance of failing. Is generally used as a pair with except, with except acting as a safety net if try crashes.\n",
    "            \n",
    "            ##tables = pd.read_html(url)##\n",
    "            #tables is a variable the we are defining and pd.read_html is a function that has been prebuilt in the pandas library used to scrape data\n",
    "            # pd.read_html takes a url as an input. In python, this input is called an argument.\n",
    "            #however, pd.read doesnt know which table on the page you want, so it scrapes data from all of them. The next most important part is to make sense of this data\n",
    "\n",
    "            # THIS pdread FUNCTION ALONE DIDNT WORK SINCE WIKEPEDIA KEPT BLOCKING MY REQUESTS WITH ERROR 404 FORBIDDEN :(\n",
    "      \n",
    "\n",
    "            headers = {\n",
    "                'User-Agent': 'Mozilla/5.0 (Windows NT 10.0; Win64; x64)'\n",
    "                'AppleWebKit/537.36 (KHTML, like Gecko)'\n",
    "                'Chrome/58.0.3029.110 Safari/537.36'\n",
    "            }\n",
    "            # Headers is like an ID card that you have on the internet. Its a way of saying who you are on the internet. Typically a browser will have this hardcoded into itself.\n",
    "            #In our case we were making a http request, but we didnt have a valid id, so wikepedia denied entry. Now we will pretend to be chrome.\n",
    "            #The user agent string itself is quite nonsensical. Just that in the early days of the internet, webservers would sometimes showcase a better version of the website to the user, if they were on a better browser that could handle it.\n",
    "            # The first, most basic browser was mosiac. Then came netscape navigator(codenamed mozilla - mosiac killer(\"killa\")) which was way better, so servers would specifically display websites better for people using netscape.\n",
    "            # Then came microsoft, who released internet explorer. They wanted to be treated better by webservers just like netscape, so they pretended to be netscape in their browser  and used the codename mozilla as well.\n",
    "            #fun fact: When microsoft released internet explorer for free, they killed netscape, which being a smaller company couldnt afford to provide the browser for free. In a last ditch effort, they opensourced netscape, creating a new open source organisation that they named the mozilla foundation, which wouldnt then rebuild the browser from scratch to give us firefox\n",
    "            #the new firefox was even better than IE or the old netscape browser, since mozilla created a rendering engine called gecko. Now webservers started looking for code word gecko as well to provide even better websites.\n",
    "            # then apple released their own webkit rendering engine which was even better than gecko. And they did the same thing as microsoft, the named their header (KHTML (which is what they used), like gecko(crucial that they used the keyword gecko for webservers to pick up on) Safari/125 (Safari was the real name of this webkit))\n",
    "            # then came the GOAT google, who used safari webkit to make Chrome. Their simple solution, pretend to be safari, hence the Chrome/0.2.149.27 Safari/525.13\n",
    "            \n",
    "            response = requests.get(url, headers=headers)\n",
    "            #when we said headers = {...}, we stored our header info into a variable(technically a dictionary), but this alone does absolutely nothing alone. I could declare a variable to be anything, like x = \"pizza\" and unless I actually use the variable, it doesnt do anything.\n",
    "            #this response line is the thing that actually equips us with the fake id card by asking the requests library(which is what is responsible for all http requests to put on this library while retreiving data)\n",
    "\n",
    "            response.raise_for_status() \n",
    "            #this is like a secret agent we are planting to simply observe is the disguise has worked. If our requests does pass through into wikipedia, the response does nothing and allows the program to run. But if it fails, this is what will relay the information to us about the failure.\n",
    "\n",
    "            tables = pd.read_html(response.text)\n",
    "            #from here on out everything is the same as our older plan.\n",
    "            #the only difference is that pd.read_html is being made to operate where it is safe and cant screw up\n",
    "            #earlier we sent pdread directly yo wikepedia to try and scrape data, but since pdread is really primitive and doesnt know how to disguise itself with an id, it wasnt even let in. \n",
    "            #so what we did was that we hired a professional (requets) to go into wikepedia in disguise, collect the data and then bring it into our program as response.text, where pdread can go through the data in the comfort of its own home.\n",
    "\n",
    "            launch_table = None\n",
    "            #this initializes a variable to be an empty placeholder. Its like defining a variable, but saying wait, we will give you a value later. The goal here is that there is a single table in the wikipedia site which contains the orbital launch data for that given year, and this is the variable we are going to assign to it.\n",
    "            #the larger for loop (which we created for the range of start and end years) will help us collect this table data for every year.\n",
    "            \n",
    "            for table in tables:\n",
    "                # The for loop is smart enough to understand that tables is a collection of data, perhaps some type of a list\n",
    "                # we assign the variable \"table\" to each item in this list (each individual table that pd read has scraped) one at a time each time the loop runs for(hence for loop) every table in tables.\n",
    "                    header_string = \"\".join(map(str, table.columns.values))\n",
    "                    #now, lets break this down step by step. Every time the for loop runs, it chooses one table in the larger tables list and does the following operation.\n",
    "                    #first off, what we need are the headers only for our table. By looking at the headers, we can try and predict if this table is the one that has the orbital launch data we need. Remember, we are looking for a single table in that wikipedia page for a given year. This is done by table.columns.values. This says take that table, and then give me the values of the column header.\n",
    "                    # the job of map(str,) is to take this header data and convert it into a string. This is extremely important, since if we dont convert every header into a string and numbers happen to show up, when we join them together, we end up with a mix of strings and numbers which will be insanely hard to seperate.\n",
    "                    #but if we create 13 to \"13\", when we run the column rejection algorithm, 13 will be treated as a string and will be rejected without crashing our program.\n",
    "                    # finally, the list of strings that we get from map will then be converted into a single long string using \"\".join, which is just a way of saying join everything that has \"\".\n",
    "                    if \"Payload\" in header_string and \"Launch site\" in header_string:\n",
    "                    #here, we are making an assumption. We assume that the testflights that are relevant to us will have some payload (which indicates that this is an orbital testflight and not say a static fire test where the rocket doesnt actually go up), or that this isnt some mission in space (like a deep space mission).Having info about the launch site which further confirms that we are infact dealing with a rocket launching up from earth, and not some satellite in space. \n",
    "                    #a good way to verify this is to actually go to one of these webpages, say https://en.wikipedia.org/wiki/2024_in_spaceflight#Orbital_launches, and try to understand what the required table looks like in the first place.\n",
    "                        launch_table = table\n",
    "                        print(f\"---> Found the orbital launch table for {year}.\")\n",
    "                        #alert the user that the required data for that given year has been found\n",
    "                        break\n",
    "                        #this is a way of saying, test every string to look for the words payload and launch site. If they dont exist, do nothing and move on to the next table. If you find the right one, set this particular table as the launch table (which is what we want) and stop the algorithm right there.\n",
    "            if launch_table is not None:\n",
    "            #ie, if our search did find us a table that had both payload and launchsite data\n",
    "                launch_table['Year'] = year\n",
    "                # we are adding a column to the launch table that we found to keep a track of where it came from\n",
    "                all_launches.append(launch_table)\n",
    "                #take all the launch table data and append(combine) it into the single all_launches list which we created in the very beginning of this program.\n",
    "            else:\n",
    "                print(f\"---> Warning: Could not find the correct table for {year}.\")\n",
    "                #if the launch_table variable remains none aven after the search, that means the required data was not available in the given wikepedia page. Alert the user about this so that they can either exclude this or source the data manually if necessary.\n",
    "    \n",
    "            time.sleep(1)\n",
    "            # Dont be a moron. Dont overload wikipedia's webservers.\n",
    "            \n",
    "        \n",
    "        except Exception as e:\n",
    "            print(f\"-->ERROR: Could not process {year}. Reason:{e}\")\n",
    "            #this exception acts as a safety net for our \"test\" keyword acting as a safety net incase the test fails.\n",
    "\n",
    "    if not all_launches:\n",
    "    #this is just pythons way of saying, if the list all_launches is completely empty. Perhaps internet was down. Perhaps wikipedia is down. Perhaps wikipedia changed the format of every single one of their rocket launch data. \n",
    "        print(\"No data was scraped. Exiting.\")\n",
    "        #Whatever happened, let us know that it failed\n",
    "        return pd.DataFrame()\n",
    "        #pd.DataFrame had to return something, even if it was an empty table. So this allows that to ensure that the program doesnt crash.\n",
    "\n",
    "    #NOW IT IS TIME FOR THE MASTER ASSEMBLY. WE WILL TAKE ALL THE YEARS DATA AND CONCATENATE IT INTO A SINGLE TABLE\n",
    "    master_df = pd.concat(all_launches, ignore_index=True)\n",
    "    #first we give pdconcat which is the Pandas Concatenator the data of all of our launches. ignore index is a way of saying, ignore the index numbers in each table which might throw off the concatenator since they repeat for each table.\n",
    "    #masterdf is our master data frame that contains all the data we could collect\n",
    "\n",
    "    print(\"\\nScraping complete!\")\n",
    "    print(f\"Successfully scraped and combined data for {len(all_launches)} years!\")\n",
    "    #Success message that confirms that scraping was succesful!\n",
    "\n",
    "    return master_df\n",
    "    #return the master_df dataframe that contains all our data\n",
    "\n",
    "START_YEAR = 1990\n",
    "END_YEAR = 2023\n",
    "# Our original for loop that had range defined on a start and end year\n",
    "\n",
    "launch_data_raw = scrape_yearly_launches(START_YEAR, END_YEAR)\n",
    "#This is the final output of out scrape_yearly_launches function\n",
    "\n",
    "print(\"\\n--- Initial DataFrame Info ---\")\n",
    "print(launch_data_raw.info())\n",
    "#this prints a summary of the dataframe to the screen\n",
    "\n",
    "print(\"\\n--- First 5 Rows of Raw Data ---\")\n",
    "print(launch_data_raw.head())\n",
    "#this gives us a sneak peak into the data\n",
    "\n",
    "# AFTER RUNNING THIS CODE, WE FIND THAT WIKEPEDIA IS ACTIVELY BLOCKING OUR REQUESTS SINCE WE APPEAR TO BE A WEBSCRAPER BOT :)\n",
    "# HOWEVER WE CAN MODIFY THIS CODE\n",
    "\n",
    "if not launch_data_raw.empty:\n",
    "#if our launch_data_raw output is not empty\n",
    "    launch_data_raw.to_csv('launches_raw.csv', index = False)\n",
    "    #.to_csv() is a pandas function, more precisely called a method\n",
    "    print(\"\\n\\n !!! SUCCESSFULLY SAVED RAW DATA TO launches_raw.csv !!!\")\n"
   ]
  },
  {
   "cell_type": "code",
   "execution_count": null,
   "id": "0bde6a26-38b8-4c1f-91ae-3094d60bb96b",
   "metadata": {},
   "outputs": [],
   "source": []
  },
  {
   "cell_type": "code",
   "execution_count": null,
   "id": "5d54b892-a3b6-444b-9b08-c3a7b372d582",
   "metadata": {},
   "outputs": [],
   "source": []
  }
 ],
 "metadata": {
  "kernelspec": {
   "display_name": "Python 3 (ipykernel)",
   "language": "python",
   "name": "python3"
  },
  "language_info": {
   "codemirror_mode": {
    "name": "ipython",
    "version": 3
   },
   "file_extension": ".py",
   "mimetype": "text/x-python",
   "name": "python",
   "nbconvert_exporter": "python",
   "pygments_lexer": "ipython3",
   "version": "3.9.6"
  }
 },
 "nbformat": 4,
 "nbformat_minor": 5
}
