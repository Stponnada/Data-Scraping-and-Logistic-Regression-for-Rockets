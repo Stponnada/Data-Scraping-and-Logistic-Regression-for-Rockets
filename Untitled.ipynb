{
 "cells": [
  {
   "cell_type": "code",
   "execution_count": 1,
   "id": "ce8dbd41-c672-46b3-be60-7adbe9f560c7",
   "metadata": {},
   "outputs": [
    {
     "name": "stdout",
     "output_type": "stream",
     "text": [
      "--- FINAL MASTER DATASET READY FOR MODELING ---\n",
      "<class 'pandas.core.frame.DataFrame'>\n",
      "RangeIndex: 1 entries, 0 to 0\n",
      "Data columns (total 10 columns):\n",
      " #   Column    Non-Null Count  Dtype         \n",
      "---  ------    --------------  -----         \n",
      " 0   DateTime  1 non-null      datetime64[ns]\n",
      " 1   Rocket    1 non-null      object        \n",
      " 2   Payload   1 non-null      object        \n",
      " 3   Operator  1 non-null      object        \n",
      " 4   Orbit     1 non-null      object        \n",
      " 5   Function  1 non-null      object        \n",
      " 6   Decay     1 non-null      object        \n",
      " 7   Outcome   1 non-null      object        \n",
      " 8   Year      1 non-null      int64         \n",
      " 9   Success   1 non-null      int64         \n",
      "dtypes: datetime64[ns](1), int64(2), object(7)\n",
      "memory usage: 208.0+ bytes\n",
      "None\n",
      "\n",
      "\n",
      "           Rocket        Payload      Outcome  Success\n",
      "0  Proton-K/DM-2M  Ekspress AM-2  Operational        1\n",
      "\n",
      "--- DISTRIBUTION OF OUTCOMES ---\n",
      "Success\n",
      "1    1\n",
      "Name: count, dtype: int64\n"
     ]
    }
   ],
   "source": [
    "import pandas as pd\n",
    "import numpy as np\n",
    "\n",
    "# Load the great dataset you just created\n",
    "df = pd.read_csv('launches_clean.csv')\n",
    "\n",
    "# --- FINAL POLISHING and TYPE CONVERSION ---\n",
    "\n",
    "# Your 'DateTime' column might be empty when loading from CSV. Let's fix that.\n",
    "# First, re-apply the datetime conversion. errors='coerce' is key here.\n",
    "df['DateTime'] = pd.to_datetime(df['DateTime'], errors='coerce')\n",
    "\n",
    "# Let's drop any rows that have junk in so many columns that the date failed to parse\n",
    "df.dropna(subset=['DateTime'], inplace=True)\n",
    "\n",
    "# Now, let's be EXTRA aggressive about removing the last few remark rows.\n",
    "# A real payload usually doesn't have the same text in the Payload, Operator, and Orbit columns.\n",
    "# A remark row OFTEN DOES.\n",
    "df = df[~(df['Payload'] == df['Operator'])]\n",
    "\n",
    "\n",
    "# --- CREATE THE 'SUCCESS' TARGET VARIABLE ---\n",
    "# Define success as an Outcome containing 'success' or 'operational'.\n",
    "success_criteria = df['Outcome'].str.lower().str.contains('success|operational', na=False)\n",
    "df['Success'] = success_criteria.astype(int)\n",
    "\n",
    "# Clean up the outcome text itself to make it cleaner\n",
    "df['Outcome'] = df['Outcome'].str.split(';').str[0].str.strip()\n",
    "\n",
    "\n",
    "# --- CHECK OUR FINAL PRODUCT ---\n",
    "df = df.reset_index(drop=True)\n",
    "\n",
    "print(\"--- FINAL MASTER DATASET READY FOR MODELING ---\")\n",
    "print(df.info())\n",
    "print(\"\\n\")\n",
    "print(df[['Rocket', 'Payload', 'Outcome', 'Success']].head(15))\n",
    "\n",
    "print(\"\\n--- DISTRIBUTION OF OUTCOMES ---\")\n",
    "print(df['Success'].value_counts())"
   ]
  },
  {
   "cell_type": "code",
   "execution_count": 3,
   "id": "135e5b9e-e1e6-49f6-88d1-dcb67c844f64",
   "metadata": {},
   "outputs": [
    {
     "data": {
      "text/html": [
       "<div>\n",
       "<style scoped>\n",
       "    .dataframe tbody tr th:only-of-type {\n",
       "        vertical-align: middle;\n",
       "    }\n",
       "\n",
       "    .dataframe tbody tr th {\n",
       "        vertical-align: top;\n",
       "    }\n",
       "\n",
       "    .dataframe thead th {\n",
       "        text-align: right;\n",
       "    }\n",
       "</style>\n",
       "<table border=\"1\" class=\"dataframe\">\n",
       "  <thead>\n",
       "    <tr style=\"text-align: right;\">\n",
       "      <th></th>\n",
       "      <th>DateTime</th>\n",
       "      <th>Rocket</th>\n",
       "      <th>Payload</th>\n",
       "      <th>Operator</th>\n",
       "      <th>Orbit</th>\n",
       "      <th>Function</th>\n",
       "      <th>Decay</th>\n",
       "      <th>Outcome</th>\n",
       "      <th>Year</th>\n",
       "      <th>Success</th>\n",
       "    </tr>\n",
       "  </thead>\n",
       "  <tbody>\n",
       "    <tr>\n",
       "      <th>0</th>\n",
       "      <td>2000-03-29 22:31:00</td>\n",
       "      <td>Proton-K/DM-2M</td>\n",
       "      <td>Ekspress AM-2</td>\n",
       "      <td>RSCC</td>\n",
       "      <td>Geosynchronous</td>\n",
       "      <td>Communications</td>\n",
       "      <td>In orbit</td>\n",
       "      <td>Operational</td>\n",
       "      <td>2005</td>\n",
       "      <td>1</td>\n",
       "    </tr>\n",
       "  </tbody>\n",
       "</table>\n",
       "</div>"
      ],
      "text/plain": [
       "             DateTime          Rocket        Payload Operator           Orbit  \\\n",
       "0 2000-03-29 22:31:00  Proton-K/DM-2M  Ekspress AM-2     RSCC  Geosynchronous   \n",
       "\n",
       "         Function     Decay      Outcome  Year  Success  \n",
       "0  Communications  In orbit  Operational  2005        1  "
      ]
     },
     "execution_count": 3,
     "metadata": {},
     "output_type": "execute_result"
    }
   ],
   "source": [
    "df.head()"
   ]
  },
  {
   "cell_type": "code",
   "execution_count": 4,
   "id": "2831f4f5-7386-4c7c-9433-a5b6c1e644f5",
   "metadata": {},
   "outputs": [
    {
     "data": {
      "text/html": [
       "<div>\n",
       "<style scoped>\n",
       "    .dataframe tbody tr th:only-of-type {\n",
       "        vertical-align: middle;\n",
       "    }\n",
       "\n",
       "    .dataframe tbody tr th {\n",
       "        vertical-align: top;\n",
       "    }\n",
       "\n",
       "    .dataframe thead th {\n",
       "        text-align: right;\n",
       "    }\n",
       "</style>\n",
       "<table border=\"1\" class=\"dataframe\">\n",
       "  <thead>\n",
       "    <tr style=\"text-align: right;\">\n",
       "      <th></th>\n",
       "      <th>DateTime</th>\n",
       "      <th>Rocket</th>\n",
       "      <th>Payload</th>\n",
       "      <th>Operator</th>\n",
       "      <th>Orbit</th>\n",
       "      <th>Function</th>\n",
       "      <th>Decay</th>\n",
       "      <th>Outcome</th>\n",
       "      <th>Year</th>\n",
       "      <th>Success</th>\n",
       "    </tr>\n",
       "  </thead>\n",
       "  <tbody>\n",
       "    <tr>\n",
       "      <th>0</th>\n",
       "      <td>2000-03-29 22:31:00</td>\n",
       "      <td>Proton-K/DM-2M</td>\n",
       "      <td>Ekspress AM-2</td>\n",
       "      <td>RSCC</td>\n",
       "      <td>Geosynchronous</td>\n",
       "      <td>Communications</td>\n",
       "      <td>In orbit</td>\n",
       "      <td>Operational</td>\n",
       "      <td>2005</td>\n",
       "      <td>1</td>\n",
       "    </tr>\n",
       "  </tbody>\n",
       "</table>\n",
       "</div>"
      ],
      "text/plain": [
       "             DateTime          Rocket        Payload Operator           Orbit  \\\n",
       "0 2000-03-29 22:31:00  Proton-K/DM-2M  Ekspress AM-2     RSCC  Geosynchronous   \n",
       "\n",
       "         Function     Decay      Outcome  Year  Success  \n",
       "0  Communications  In orbit  Operational  2005        1  "
      ]
     },
     "execution_count": 4,
     "metadata": {},
     "output_type": "execute_result"
    }
   ],
   "source": [
    "df.head(10)"
   ]
  },
  {
   "cell_type": "code",
   "execution_count": 5,
   "id": "7510d326-1748-4823-ac18-11c72fea466c",
   "metadata": {},
   "outputs": [
    {
     "ename": "NameError",
     "evalue": "name 'df_final' is not defined",
     "output_type": "error",
     "traceback": [
      "\u001b[0;31m---------------------------------------------------------------------------\u001b[0m",
      "\u001b[0;31mNameError\u001b[0m                                 Traceback (most recent call last)",
      "Cell \u001b[0;32mIn[5], line 1\u001b[0m\n\u001b[0;32m----> 1\u001b[0m \u001b[38;5;28mprint\u001b[39m(\u001b[38;5;124m\"\u001b[39m\u001b[38;5;124mThe shape of my DataFrame is:\u001b[39m\u001b[38;5;124m\"\u001b[39m, \u001b[43mdf_final\u001b[49m\u001b[38;5;241m.\u001b[39mshape)\n",
      "\u001b[0;31mNameError\u001b[0m: name 'df_final' is not defined"
     ]
    }
   ],
   "source": [
    "print(\"The shape of my DataFrame is:\", df.shape)"
   ]
  },
  {
   "cell_type": "code",
   "execution_count": null,
   "id": "3dc0cef2-2d21-488d-91a0-f9c275ec4ac6",
   "metadata": {},
   "outputs": [],
   "source": []
  }
 ],
 "metadata": {
  "kernelspec": {
   "display_name": "Python 3 (ipykernel)",
   "language": "python",
   "name": "python3"
  },
  "language_info": {
   "codemirror_mode": {
    "name": "ipython",
    "version": 3
   },
   "file_extension": ".py",
   "mimetype": "text/x-python",
   "name": "python",
   "nbconvert_exporter": "python",
   "pygments_lexer": "ipython3",
   "version": "3.9.6"
  }
 },
 "nbformat": 4,
 "nbformat_minor": 5
}
